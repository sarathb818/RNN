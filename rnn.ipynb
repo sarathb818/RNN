{
  "nbformat": 4,
  "nbformat_minor": 0,
  "metadata": {
    "colab": {
      "name": "rnn.ipynb",
      "provenance": [],
      "authorship_tag": "ABX9TyNIg32bpBa8NqFCUvoYRH5Z",
      "include_colab_link": true
    },
    "kernelspec": {
      "name": "python3",
      "display_name": "Python 3"
    }
  },
  "cells": [
    {
      "cell_type": "markdown",
      "metadata": {
        "id": "view-in-github",
        "colab_type": "text"
      },
      "source": [
        "<a href=\"https://colab.research.google.com/github/sarathb818/RNN/blob/main/rnn.ipynb\" target=\"_parent\"><img src=\"https://colab.research.google.com/assets/colab-badge.svg\" alt=\"Open In Colab\"/></a>"
      ]
    },
    {
      "cell_type": "code",
      "metadata": {
        "id": "cP3QERzDp70-"
      },
      "source": [
        "import numpy as np \n",
        "import pandas as pd \n",
        "import seaborn as sns\n",
        "import matplotlib.pyplot as plt\n",
        "%matplotlib inline\n",
        "\n",
        "from scipy import stats\n",
        "from keras.datasets import imdb\n",
        "from keras.preprocessing.sequence import pad_sequences \n",
        "from keras.models import Sequential\n",
        "from keras.layers.embeddings import Embedding\n",
        "from keras.layers import SimpleRNN,Dense,Activation\n",
        "from keras.utils import plot_model\n",
        "from keras.preprocessing.text import Tokenizer"
      ],
      "execution_count": 1,
      "outputs": []
    },
    {
      "cell_type": "code",
      "metadata": {
        "id": "JjgNaIoyrnQp"
      },
      "source": [
        "#fix random seed so that we can easily reproduce the results\n",
        "np.random.seed(13)"
      ],
      "execution_count": 2,
      "outputs": []
    },
    {
      "cell_type": "code",
      "metadata": {
        "colab": {
          "base_uri": "https://localhost:8080/"
        },
        "id": "jCGX_M3Gr3w1",
        "outputId": "abdb73a3-1ea3-4e0b-b3ba-d62371cb4e11"
      },
      "source": [
        "#pad input sequences\n",
        "max_review_length=500\n",
        "top_words=5000\n",
        "(X_train,y_train),(X_test,y_test)=imdb.load_data(num_words=top_words)"
      ],
      "execution_count": 3,
      "outputs": [
        {
          "output_type": "stream",
          "text": [
            "Downloading data from https://storage.googleapis.com/tensorflow/tf-keras-datasets/imdb.npz\n",
            "17465344/17464789 [==============================] - 2s 0us/step\n"
          ],
          "name": "stdout"
        }
      ]
    },
    {
      "cell_type": "code",
      "metadata": {
        "colab": {
          "base_uri": "https://localhost:8080/"
        },
        "id": "64roltzqsDRI",
        "outputId": "917528d5-36ac-43e0-e447-80a4be2934e8"
      },
      "source": [
        "print(\"Y train values: \",np.unique(y_train))\n",
        "print(\"Y test values: \",np.unique(y_test))"
      ],
      "execution_count": 4,
      "outputs": [
        {
          "output_type": "stream",
          "text": [
            "Y train values:  [0 1]\n",
            "Y test values:  [0 1]\n"
          ],
          "name": "stdout"
        }
      ]
    },
    {
      "cell_type": "code",
      "metadata": {
        "colab": {
          "base_uri": "https://localhost:8080/"
        },
        "id": "zMqTtY0BsKCB",
        "outputId": "d8a50b48-169a-41bf-e0bc-54f2417a2a95"
      },
      "source": [
        "unique,counts = np.unique(y_train,return_counts=True)\n",
        "print(\"y train distribution: \", dict(zip(unique,counts)))"
      ],
      "execution_count": 5,
      "outputs": [
        {
          "output_type": "stream",
          "text": [
            "y train distribution:  {0: 12500, 1: 12500}\n"
          ],
          "name": "stdout"
        }
      ]
    },
    {
      "cell_type": "code",
      "metadata": {
        "id": "BqtYLqEgsUaj"
      },
      "source": [
        "review_len_train = []\n",
        "review_len_test = []\n",
        "for i,j in zip(X_train,X_test):\n",
        "    review_len_train.append(len(i))\n",
        "    review_len_test.append(len(j))"
      ],
      "execution_count": 6,
      "outputs": []
    },
    {
      "cell_type": "code",
      "metadata": {
        "colab": {
          "base_uri": "https://localhost:8080/"
        },
        "id": "oktcwVN4sZiJ",
        "outputId": "be3027e0-b69e-49c3-bf27-e0dcb53b12cd"
      },
      "source": [
        "print(\"min: \", min(review_len_train), \"max: \", max(review_len_train))"
      ],
      "execution_count": 7,
      "outputs": [
        {
          "output_type": "stream",
          "text": [
            "min:  11 max:  2494\n"
          ],
          "name": "stdout"
        }
      ]
    },
    {
      "cell_type": "code",
      "metadata": {
        "colab": {
          "base_uri": "https://localhost:8080/"
        },
        "id": "cX4OraQysbPO",
        "outputId": "2d707cd5-775c-4c64-e7eb-6836b5f5a78e"
      },
      "source": [
        "print(\"min: \", min(review_len_test), \"max: \", max(review_len_test))"
      ],
      "execution_count": 8,
      "outputs": [
        {
          "output_type": "stream",
          "text": [
            "min:  7 max:  2315\n"
          ],
          "name": "stdout"
        }
      ]
    },
    {
      "cell_type": "code",
      "metadata": {
        "colab": {
          "base_uri": "https://localhost:8080/",
          "height": 353
        },
        "id": "yXPqLOX3scvW",
        "outputId": "1a508822-5680-4faa-b4c6-7a9489ea0da7"
      },
      "source": [
        "sns.distplot(review_len_train,hist_kws={\"alpha\":0.3});\n",
        "sns.distplot(review_len_test,hist_kws={\"alpha\":0.3});"
      ],
      "execution_count": 9,
      "outputs": [
        {
          "output_type": "stream",
          "text": [
            "/usr/local/lib/python3.6/dist-packages/seaborn/distributions.py:2551: FutureWarning: `distplot` is a deprecated function and will be removed in a future version. Please adapt your code to use either `displot` (a figure-level function with similar flexibility) or `histplot` (an axes-level function for histograms).\n",
            "  warnings.warn(msg, FutureWarning)\n",
            "/usr/local/lib/python3.6/dist-packages/seaborn/distributions.py:2551: FutureWarning: `distplot` is a deprecated function and will be removed in a future version. Please adapt your code to use either `displot` (a figure-level function with similar flexibility) or `histplot` (an axes-level function for histograms).\n",
            "  warnings.warn(msg, FutureWarning)\n"
          ],
          "name": "stderr"
        },
        {
          "output_type": "display_data",
          "data": {
            "image/png": "[encoded data removed]",
            "text/plain": [
              "<Figure size 432x288 with 1 Axes>"
            ]
          },
          "metadata": {
            "tags": [],
            "needs_background": "light"
          }
        }
      ]
    },
    {
      "cell_type": "code",
      "metadata": {
        "colab": {
          "base_uri": "https://localhost:8080/"
        },
        "id": "0Qeq4nwpseTS",
        "outputId": "bc0040fa-0fab-406e-ae0f-cabb86fc85b3"
      },
      "source": [
        "print(\"Train mean: \",np.mean(review_len_train))\n",
        "print(\"Train median: \",np.median(review_len_train))\n",
        "print(\"Train mode: \",stats.mode(review_len_train))"
      ],
      "execution_count": 10,
      "outputs": [
        {
          "output_type": "stream",
          "text": [
            "Train mean:  238.71364\n",
            "Train median:  178.0\n",
            "Train mode:  ModeResult(mode=array([132]), count=array([196]))\n"
          ],
          "name": "stdout"
        }
      ]
    },
    {
      "cell_type": "code",
      "metadata": {
        "colab": {
          "base_uri": "https://localhost:8080/"
        },
        "id": "W936pJRwslVX",
        "outputId": "f23f3724-f2f3-4d2e-b38c-6d7172f0c3d9"
      },
      "source": [
        "# number or words\n",
        "word_index = imdb.get_word_index()\n",
        "print(type(word_index))"
      ],
      "execution_count": 11,
      "outputs": [
        {
          "output_type": "stream",
          "text": [
            "Downloading data from https://storage.googleapis.com/tensorflow/tf-keras-datasets/imdb_word_index.json\n",
            "1646592/1641221 [==============================] - 0s 0us/step\n",
            "<class 'dict'>\n"
          ],
          "name": "stdout"
        }
      ]
    },
    {
      "cell_type": "code",
      "metadata": {
        "id": "K2hcchDdsm4z"
      },
      "source": [
        "X = np.concatenate((X_train, X_test), axis=0)\n",
        "y = np.concatenate((y_train, y_test), axis=0)"
      ],
      "execution_count": 12,
      "outputs": []
    },
    {
      "cell_type": "code",
      "metadata": {
        "colab": {
          "base_uri": "https://localhost:8080/"
        },
        "id": "Roi_gjsZsyc-",
        "outputId": "96cc57ef-7cb4-4ab5-80cf-cd609be5ff05"
      },
      "source": [
        "# Summarize number of words\n",
        "print(\"Number of words: \")\n",
        "print(len(np.unique(np.hstack(X))))"
      ],
      "execution_count": 13,
      "outputs": [
        {
          "output_type": "stream",
          "text": [
            "Number of words: \n",
            "4998\n"
          ],
          "name": "stdout"
        }
      ]
    },
    {
      "cell_type": "code",
      "metadata": {
        "id": "12yGsMebtDZm"
      },
      "source": [
        "from matplotlib import pyplot"
      ],
      "execution_count": 15,
      "outputs": []
    },
    {
      "cell_type": "code",
      "metadata": {
        "colab": {
          "base_uri": "https://localhost:8080/",
          "height": 299
        },
        "id": "YFFP0mcus-cG",
        "outputId": "1f89282a-ea17-4507-8662-d2b01a1e9800"
      },
      "source": [
        "# Summarize review length\n",
        "print(\"Review length: \")\n",
        "result = [len(x) for x in X]\n",
        "print(\"Mean %.2f words (%f)\" % (np.mean(result), np.std(result)))\n",
        "# plot review length\n",
        "pyplot.boxplot(result)\n",
        "pyplot.show()"
      ],
      "execution_count": 16,
      "outputs": [
        {
          "output_type": "stream",
          "text": [
            "Review length: \n",
            "Mean 234.76 words (172.911495)\n"
          ],
          "name": "stdout"
        },
        {
          "output_type": "display_data",
          "data": {
            "image/png": "[encoded data removed]",
            "text/plain": [
              "<Figure size 432x288 with 1 Axes>"
            ]
          },
          "metadata": {
            "tags": [],
            "needs_background": "light"
          }
        }
      ]
    },
    {
      "cell_type": "code",
      "metadata": {
        "colab": {
          "base_uri": "https://localhost:8080/"
        },
        "id": "F6CX6jOEtODs",
        "outputId": "1a8ae5d3-7252-47d0-dcd3-d3989b763140"
      },
      "source": [
        "for keys,values in word_index.items():\n",
        "    if values == 1:\n",
        "        print(keys)"
      ],
      "execution_count": 21,
      "outputs": [
        {
          "output_type": "stream",
          "text": [
            "the\n"
          ],
          "name": "stdout"
        }
      ]
    },
    {
      "cell_type": "code",
      "metadata": {
        "id": "oyQzY3ywtQ5k"
      },
      "source": [
        "def text(index=7):\n",
        "    reverse_index = dict([(value,key) for (key,value) in word_index.items()])\n",
        "    decode_review = \" \".join([reverse_index.get(i-3, \"!\") for i in X_train[index]])\n",
        "    print(decode_review)\n",
        "    print(y_train[index])\n",
        "    return decode_review\n",
        "    decoded_review = text()"
      ],
      "execution_count": 22,
      "outputs": []
    },
    {
      "cell_type": "code",
      "metadata": {
        "colab": {
          "base_uri": "https://localhost:8080/"
        },
        "id": "WUXQfZQ5tSfo",
        "outputId": "61519871-4090-41df-88b4-ea9d3ade826c"
      },
      "source": [
        "decoded_review = text(25)"
      ],
      "execution_count": 23,
      "outputs": [
        {
          "output_type": "stream",
          "text": [
            "! this is a very light headed comedy about a wonderful family that has a son called ! because he use to ! at his food ! loves to take all kinds of pictures of the people in a small ! of ! ! and manages to get the attention of a group of photo art lovers from new york city ! has a cute sister who goes simply nuts over ! and is actually an ! taking ! of ! from a bag there are scenes of men showing off the ! in their ! with ! movements and ! doing pretty much the same it is rather hard to keep your mind out of the ! with this film but who cares it is only a film to give you a few laughs at a simple picture made in !\n",
            "1\n"
          ],
          "name": "stdout"
        }
      ]
    },
    {
      "cell_type": "code",
      "metadata": {
        "colab": {
          "base_uri": "https://localhost:8080/"
        },
        "id": "B2dsDe68teUP",
        "outputId": "55f0ac0a-9b89-4b0f-d7a1-c65c8bc477e7"
      },
      "source": [
        "decoded_review = text(45)"
      ],
      "execution_count": 24,
      "outputs": [
        {
          "output_type": "stream",
          "text": [
            "! in this swimming pool this ! there are water ! and there are ! ! sit on water ! the ! and water lily have a ! relationship marie ! ! is a water lily a ! swimming ! with a crush on ! ! ! a ! the captain of her team ! ! ! their leader because the ! ! and well ! blonde ! a loose persona that ! the ! ! ! of ! and ! but ! has a secret the ! has a ! which ! ! ! reveals to the audience visually before she ! in marie br br ! has never gone as they say all the way with a boy br br at a party we see a double image of the ! sex bomb checking her make up in a bathroom mirror ! is a ! ! marie gets to know ! double while her imitation breaks the water ! heart while the ! goes through the ! of catching flies for ! sake she gets ! with the water lily when no one's looking in the film's most ! scene the water lily agrees to give the ! a hand in losing her ! through the mechanical act of ! ! ! wants boys to like her but she doesn't like boys seemingly but it's more important to the ! that she's popular when the water lily finally ! the ! the ! remains a ! the ! can't ! into a water lily or a princess because the water lily lost the ! respect after their lips ! ! tells marie see it's easy which is the ! way of ! their kiss with the ! that her friend gave her as nothing more than a ! of ! without any ! attached ! beauty is a ! she carries the weight of meeting ! expectations ! uses marie to have one final ! before her ! ! ! its imitation into the closet br br the other water lily the other ! ! best friend anne louise ! and ! frustrated boy toy ! warren ! just like any water lily and ! have a ! relationship too while ! uses marie for love ! uses anne for sex but that's life that's the ! of growing up in which even a friend will turn on a good friend if the opportunity to move up the food chain presents itself at a ! the water lily ! the other water lily after ! ! in the ! ! physical beauty is a ! marie gets to call the shots because anne although far from being ugly is ! and has an ! ! anne tries to fight back by using her breasts as ! ! the ! glass from her happy ! ! comments on ! flat chest but the ! marie thinks she's better than anne better than a water lily points out that her breasts are a ! of fat br br ! girls can be brutal to each other br br later in the final shot ! ! ! suggests that marie has a double too and this ! among water ! has the potential to turn ! in the near future if it not already has ! girls can be brutal to each other in a way that no boy could match\n",
            "1\n"
          ],
          "name": "stdout"
        }
      ]
    },
    {
      "cell_type": "code",
      "metadata": {
        "id": "Ax85Rns4tjq6"
      },
      "source": [
        "num_words = 25000\n",
        "(X_train,Y_train),(X_test,Y_test) = imdb.load_data(num_words=num_words)"
      ],
      "execution_count": 25,
      "outputs": []
    },
    {
      "cell_type": "code",
      "metadata": {
        "id": "BHQe926MtnsV"
      },
      "source": [
        "maxlen=130\n",
        "X_train = pad_sequences(X_train, maxlen=maxlen)\n",
        "X_test = pad_sequences(X_test, maxlen=maxlen)"
      ],
      "execution_count": 26,
      "outputs": []
    },
    {
      "cell_type": "code",
      "metadata": {
        "colab": {
          "base_uri": "https://localhost:8080/"
        },
        "id": "7Pr4Fx2dtqXT",
        "outputId": "02f5dd01-0041-4ac1-aa20-8b9549fd0b7c"
      },
      "source": [
        "print(\"X train shape: \",X_train.shape)"
      ],
      "execution_count": 27,
      "outputs": [
        {
          "output_type": "stream",
          "text": [
            "X train shape:  (25000, 130)\n"
          ],
          "name": "stdout"
        }
      ]
    },
    {
      "cell_type": "code",
      "metadata": {
        "colab": {
          "base_uri": "https://localhost:8080/"
        },
        "id": "-UTgnZdwtrrY",
        "outputId": "c87cb601-fccb-4942-d8d9-cc76b68b5bbd"
      },
      "source": [
        "print(X_train[7])"
      ],
      "execution_count": 28,
      "outputs": [
        {
          "output_type": "stream",
          "text": [
            "[  188     6    55   655   707  6371   956   225  1456   841    42  1310\n",
            "   225     6  2493  1467  7722  2828    21     4 14906     9   364    23\n",
            "     4  2228  2407   225    24    76   133    18     4   189  2293    10\n",
            "    10   814    11     2    11  2642    14    47    15   682   364   352\n",
            "   168    44    12    45    24   913    93    21   247  2441     4   116\n",
            "    34    35  1859     8    72   177     9   164     8   901   344    44\n",
            "    13   191   135    13   126   421   233    18   259    10    10     4\n",
            " 14906  6847     4 14065  3074     7   112   199   753   357    39    63\n",
            "    12   115 15222   763     8    15    35  3282  1523    65    57   599\n",
            "     6  1916   277  1730    37    25    92   202     6  8848    44    25\n",
            "    28     6    22    15   122    24  4171    72    33    32]\n"
          ],
          "name": "stdout"
        }
      ]
    },
    {
      "cell_type": "code",
      "metadata": {
        "colab": {
          "base_uri": "https://localhost:8080/"
        },
        "id": "OF1If1KSttUO",
        "outputId": "a6e11228-5cc1-4794-c635-5bd1dc707dbb"
      },
      "source": [
        "for i in X_train[0:10]:\n",
        "    print(len(i))"
      ],
      "execution_count": 29,
      "outputs": [
        {
          "output_type": "stream",
          "text": [
            "130\n",
            "130\n",
            "130\n",
            "130\n",
            "130\n",
            "130\n",
            "130\n",
            "130\n",
            "130\n",
            "130\n"
          ],
          "name": "stdout"
        }
      ]
    },
    {
      "cell_type": "code",
      "metadata": {
        "id": "KekqQTyvtu_c"
      },
      "source": [
        "model = Sequential()\n",
        "\n",
        "model.add(Embedding(num_words,32,input_length =len(X_train[0])))\n",
        "model.add(SimpleRNN(16,input_shape = (num_words,maxlen), return_sequences=False,activation=\"relu\"))\n",
        "model.add(Dense(1)) #flatten\n",
        "model.add(Activation(\"sigmoid\")) #using sigmoid for binary classification\n",
        "model.compile(loss=\"binary_crossentropy\",optimizer=\"rmsprop\",metrics=[\"accuracy\"])"
      ],
      "execution_count": 30,
      "outputs": []
    },
    {
      "cell_type": "code",
      "metadata": {
        "colab": {
          "base_uri": "https://localhost:8080/"
        },
        "id": "4EY4xkQiuYAW",
        "outputId": "94508b65-42cd-4b0e-f81d-44ca0b9c3a0c"
      },
      "source": [
        "print(model.summary())"
      ],
      "execution_count": 31,
      "outputs": [
        {
          "output_type": "stream",
          "text": [
            "Model: \"sequential\"\n",
            "_________________________________________________________________\n",
            "Layer (type)                 Output Shape              Param #   \n",
            "=================================================================\n",
            "embedding (Embedding)        (None, 130, 32)           800000    \n",
            "_________________________________________________________________\n",
            "simple_rnn (SimpleRNN)       (None, 16)                784       \n",
            "_________________________________________________________________\n",
            "dense (Dense)                (None, 1)                 17        \n",
            "_________________________________________________________________\n",
            "activation (Activation)      (None, 1)                 0         \n",
            "=================================================================\n",
            "Total params: 800,801\n",
            "Trainable params: 800,801\n",
            "Non-trainable params: 0\n",
            "_________________________________________________________________\n",
            "None\n"
          ],
          "name": "stdout"
        }
      ]
    },
    {
      "cell_type": "code",
      "metadata": {
        "colab": {
          "base_uri": "https://localhost:8080/",
          "height": 466
        },
        "id": "UJuGz1h3ucpm",
        "outputId": "ba727bf1-23d4-4a05-f5b3-076427f90e38"
      },
      "source": [
        "from keras.utils import plot_model\n",
        "plot_model(model)"
      ],
      "execution_count": 32,
      "outputs": [
        {
          "output_type": "execute_result",
          "data": {
            "image/png": "[encoded data removed]",
            "text/plain": [
              "<IPython.core.display.Image object>"
            ]
          },
          "metadata": {
            "tags": []
          },
          "execution_count": 32
        }
      ]
    },
    {
      "cell_type": "code",
      "metadata": {
        "colab": {
          "base_uri": "https://localhost:8080/"
        },
        "id": "cVNuubjdujBX",
        "outputId": "a46f145b-c9d3-4e0d-b02c-bf917ed905da"
      },
      "source": [
        "history = model.fit(X_train,Y_train,validation_data = (X_test,Y_test),epochs = 20,batch_size=128,verbose = 1)"
      ],
      "execution_count": 34,
      "outputs": [
        {
          "output_type": "stream",
          "text": [
            "Epoch 1/20\n",
            "196/196 [==============================] - 8s 42ms/step - loss: 0.0906 - accuracy: 0.9666 - val_loss: 0.5495 - val_accuracy: 0.8400\n",
            "Epoch 2/20\n",
            "196/196 [==============================] - 8s 43ms/step - loss: 0.0790 - accuracy: 0.9712 - val_loss: 0.6593 - val_accuracy: 0.8332\n",
            "Epoch 3/20\n",
            "196/196 [==============================] - 8s 43ms/step - loss: 0.0738 - accuracy: 0.9730 - val_loss: 0.5485 - val_accuracy: 0.8423\n",
            "Epoch 4/20\n",
            "196/196 [==============================] - 8s 42ms/step - loss: 0.0646 - accuracy: 0.9783 - val_loss: 0.4885 - val_accuracy: 0.8110\n",
            "Epoch 5/20\n",
            "196/196 [==============================] - 8s 42ms/step - loss: 0.0604 - accuracy: 0.9788 - val_loss: 0.6207 - val_accuracy: 0.8294\n",
            "Epoch 6/20\n",
            "196/196 [==============================] - 8s 42ms/step - loss: 0.0568 - accuracy: 0.9808 - val_loss: 0.7236 - val_accuracy: 0.8346\n",
            "Epoch 7/20\n",
            "196/196 [==============================] - 8s 42ms/step - loss: 0.0514 - accuracy: 0.9828 - val_loss: 0.6419 - val_accuracy: 0.8364\n",
            "Epoch 8/20\n",
            "196/196 [==============================] - 8s 42ms/step - loss: 0.0474 - accuracy: 0.9845 - val_loss: 0.5202 - val_accuracy: 0.8226\n",
            "Epoch 9/20\n",
            "196/196 [==============================] - 8s 41ms/step - loss: 0.0362 - accuracy: 0.9875 - val_loss: 0.5719 - val_accuracy: 0.8323\n",
            "Epoch 10/20\n",
            "196/196 [==============================] - 8s 42ms/step - loss: 0.0416 - accuracy: 0.9859 - val_loss: 0.7208 - val_accuracy: 0.8279\n",
            "Epoch 11/20\n",
            "196/196 [==============================] - 8s 41ms/step - loss: 0.0319 - accuracy: 0.9895 - val_loss: 0.9774 - val_accuracy: 0.8036\n",
            "Epoch 12/20\n",
            "196/196 [==============================] - 8s 41ms/step - loss: 0.0359 - accuracy: 0.9896 - val_loss: 0.9349 - val_accuracy: 0.8250\n",
            "Epoch 13/20\n",
            "196/196 [==============================] - 8s 41ms/step - loss: 0.0296 - accuracy: 0.9901 - val_loss: 1.1889 - val_accuracy: 0.8142\n",
            "Epoch 14/20\n",
            "196/196 [==============================] - 8s 41ms/step - loss: 0.0264 - accuracy: 0.9910 - val_loss: 0.7469 - val_accuracy: 0.8310\n",
            "Epoch 15/20\n",
            "196/196 [==============================] - 8s 42ms/step - loss: 0.0277 - accuracy: 0.9922 - val_loss: 0.8833 - val_accuracy: 0.8252\n",
            "Epoch 16/20\n",
            "196/196 [==============================] - 8s 41ms/step - loss: 0.0228 - accuracy: 0.9927 - val_loss: 0.7446 - val_accuracy: 0.8317\n",
            "Epoch 17/20\n",
            "196/196 [==============================] - 8s 42ms/step - loss: 0.0237 - accuracy: 0.9925 - val_loss: 0.6283 - val_accuracy: 0.8282\n",
            "Epoch 18/20\n",
            "196/196 [==============================] - 8s 42ms/step - loss: 0.0230 - accuracy: 0.9950 - val_loss: 0.9904 - val_accuracy: 0.8283\n",
            "Epoch 19/20\n",
            "196/196 [==============================] - 8s 41ms/step - loss: 0.0204 - accuracy: 0.9938 - val_loss: 1.2250 - val_accuracy: 0.7992\n",
            "Epoch 20/20\n",
            "196/196 [==============================] - 8s 41ms/step - loss: 0.0163 - accuracy: 0.9950 - val_loss: 1.9266 - val_accuracy: 0.8042\n"
          ],
          "name": "stdout"
        }
      ]
    },
    {
      "cell_type": "code",
      "metadata": {
        "colab": {
          "base_uri": "https://localhost:8080/"
        },
        "id": "gLK7jNQXulsv",
        "outputId": "a95fa174-1b59-41e3-d9dd-d092bce5fcfd"
      },
      "source": [
        "score = model.evaluate(X_test,Y_test)"
      ],
      "execution_count": 35,
      "outputs": [
        {
          "output_type": "stream",
          "text": [
            "782/782 [==============================] - 4s 5ms/step - loss: 1.9266 - accuracy: 0.8042\n"
          ],
          "name": "stdout"
        }
      ]
    },
    {
      "cell_type": "code",
      "metadata": {
        "id": "Ppxu9q9JvogX"
      },
      "source": [
        "def plot_len_cur(history):\n",
        "  pd.DataFrame(history.history).plot(figsize=(15,8))\n",
        "  plt.grid(True)\n",
        "  plt.gca().set_ylim(0,1)\n",
        "  plt.show()"
      ],
      "execution_count": 36,
      "outputs": []
    },
    {
      "cell_type": "code",
      "metadata": {
        "colab": {
          "base_uri": "https://localhost:8080/",
          "height": 487
        },
        "id": "CkfWHDfIwZpP",
        "outputId": "b40275ef-b4f0-4857-a416-64c82eff7d04"
      },
      "source": [
        "plot_len_cur(history)"
      ],
      "execution_count": 37,
      "outputs": [
        {
          "output_type": "display_data",
          "data": {
            "image/png": "[encoded data removed]",
            "text/plain": [
              "<Figure size 1080x576 with 1 Axes>"
            ]
          },
          "metadata": {
            "tags": [],
            "needs_background": "light"
          }
        }
      ]
    },
    {
      "cell_type": "code",
      "metadata": {
        "id": "F3lNe3BaweDK"
      },
      "source": [
        ""
      ],
      "execution_count": null,
      "outputs": []
    }
  ]
}